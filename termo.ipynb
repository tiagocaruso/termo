{
 "cells": [
  {
   "cell_type": "code",
   "execution_count": null,
   "metadata": {},
   "outputs": [],
   "source": [
    "import numpy as np\n",
    "import re\n",
    "from collections import Counter"
   ]
  },
  {
   "cell_type": "markdown",
   "metadata": {},
   "source": [
    "# Limpando os dados"
   ]
  },
  {
   "cell_type": "code",
   "execution_count": 104,
   "metadata": {},
   "outputs": [],
   "source": [
    "with open(\"corpus_brasileiro.txt\", encoding='ISO-8859-1') as f:\n",
    "    lines = f.readlines()"
   ]
  },
  {
   "cell_type": "code",
   "execution_count": 105,
   "metadata": {},
   "outputs": [],
   "source": [
    "def limpar_palavra(a):\n",
    "    \"\"\"\n",
    "    Input: palavra\n",
    "    Output: palavra sem maiusculas, simbulos, numeros our acentos\n",
    "    \"\"\"\n",
    "    a = a.lower()\n",
    "    a = re.sub('\\W+','', a)\n",
    "    a = re.sub(r'[~^0-9]', '', a)\n",
    "    a = a.replace(\"'\",\"\")\n",
    "    a = a.replace(\".\",\"\")\n",
    "    a = a.replace(\",\",\"\")\n",
    "    a = a.replace(\"ã\",\"a\")\n",
    "    a = a.replace(\"á\",\"a\")\n",
    "    a = a.replace(\"ä\",\"a\")\n",
    "    a = a.replace(\"â\",\"a\")\n",
    "    a = a.replace(\"à\",\"a\")\n",
    "    a = a.replace(\"é\",\"e\")\n",
    "    a = a.replace(\"ê\",\"e\")\n",
    "    a = a.replace(\"õ\",\"o\")\n",
    "    a = a.replace(\"ó\",\"o\")\n",
    "    a = a.replace(\"ó\",\"o\")\n",
    "    a = a.replace(\"ç\",\"c\")\n",
    "    a = a.replace(\"ú\",\"u\")\n",
    "    a = a.replace(\"í\",\"i\")\n",
    "    a = a.replace(\"ü\",\"u\")\n",
    "    a = a.replace(\"ñ\",\"n\")\n",
    "    return a"
   ]
  },
  {
   "cell_type": "code",
   "execution_count": 106,
   "metadata": {},
   "outputs": [],
   "source": [
    "# Vamos transformar o corpus em um dicionário que só contem palavras limpas de 5 letras \n",
    "corpus = dict()\n",
    "for line in lines:\n",
    "    # Seperando as linhas \n",
    "    split_line = line.split('\\t')\n",
    "    frequencia = int(split_line[0])\n",
    "    palavra = split_line[1].split('\\n')[0]\n",
    "    # Limpando as palavras\n",
    "    palavra_limpa = limpar_palavra(palavra)\n",
    "    # Selecionando palavras com 5 letras apenas\n",
    "    if len(palavra_limpa) !=5:\n",
    "        continue\n",
    "    # Somando as frequencias de palavras identicas apos a limpeza\n",
    "    if palavra_limpa in corpus.keys():\n",
    "        velha_frequencia = corpus[palavra_limpa]\n",
    "        corpus[palavra_limpa] = velha_frequencia + frequencia\n",
    "    else:\n",
    "        corpus[palavra_limpa] = frequencia"
   ]
  },
  {
   "cell_type": "code",
   "execution_count": 62,
   "metadata": {},
   "outputs": [],
   "source": [
    "# Vamos restringir o corpus a palavaras que só aparecem com alta frequencia\n",
    "corpus_limpo = {k:v for (k,v) in corpus.items() if v >= 500} \n",
    "palavras_muito_usadas = {k:v for (k,v) in corpus.items() if v > 5000} "
   ]
  },
  {
   "cell_type": "code",
   "execution_count": 64,
   "metadata": {},
   "outputs": [
    {
     "name": "stdout",
     "output_type": "stream",
     "text": [
      "165862\n",
      "1544\n",
      "5350\n"
     ]
    }
   ],
   "source": [
    "print(len(corpus))\n",
    "print(len(palavras_muito_usadas))\n",
    "print(len(corpus_limpo))"
   ]
  },
  {
   "cell_type": "code",
   "execution_count": 71,
   "metadata": {},
   "outputs": [],
   "source": [
    "def mostrar_n_palavras_mais_frequentes(corp,n):\n",
    "    # Recebe um dicionário e mostra as n palavras com maior frequencua\n",
    "    corp_ordem = sorted(corp, key=corp.get,reverse=True)\n",
    "    print(corp_ordem[:n])"
   ]
  },
  {
   "cell_type": "code",
   "execution_count": 70,
   "metadata": {},
   "outputs": [
    {
     "name": "stdout",
     "output_type": "stream",
     "text": [
      "['entre', 'sobre', 'foram', 'paulo', 'mesmo', 'ainda', 'muito', 'maior', 'forma', 'final', 'todos', 'tempo', 'assim', 'sendo', 'parte', 'saude', 'disse', 'grupo', 'ontem', 'outro', 'local', 'pelos', 'folha', 'fazer', 'dados', 'menos', 'mundo', 'podem', 'desde', 'antes', 'total', 'poder', 'entao', 'valor', 'todas', 'media', 'deste', 'agora', 'detaq', 'vezes']\n"
     ]
    }
   ],
   "source": [
    "mostrar_n_palavras_mais_frequentes(corpus_limpo, 40)"
   ]
  },
  {
   "cell_type": "markdown",
   "metadata": {},
   "source": [
    "# Funções do jogo"
   ]
  },
  {
   "cell_type": "code",
   "execution_count": 107,
   "metadata": {},
   "outputs": [],
   "source": [
    "def chute_chave_sinal(chute,chave):\n",
    "    \"\"\"\n",
    "    Input: duas strings, chute e chave\n",
    "    Output: sinal uma lista de tuples onde a primeira entrada de cada tupla é uma letra e a segunda um \n",
    "            sinal: 0 - letra não se encontra na palavra\n",
    "                   1 - letra na palavra em outra posicão\n",
    "                   2 - letra na palavra naquela posição\n",
    "    \"\"\"\n",
    "    sinal = list((l, 0) for l in chute)\n",
    "    pos_pular = list()\n",
    "    # Verificando verdes\n",
    "    for pos in range(len(chute)):\n",
    "        if chute[pos] == chave[pos]:\n",
    "            sinal[pos] = (chute[pos],2)\n",
    "            pos_pular.append(pos)\n",
    "    # Verificando amarelos\n",
    "    for pos in range(len(chute)):\n",
    "        if pos in pos_pular:\n",
    "            continue\n",
    "        letra_chute = chute[pos]\n",
    "        for chave_pos in range(len(chave)):\n",
    "            if chave_pos in pos_pular:\n",
    "                continue\n",
    "            if letra_chute == chave[chave_pos]:\n",
    "                sinal[pos] = (letra_chute,1)   \n",
    "                pos_pular.append(chave_pos)\n",
    "    return sinal "
   ]
  },
  {
   "cell_type": "code",
   "execution_count": 108,
   "metadata": {},
   "outputs": [],
   "source": [
    "def palavra_respeita_sinal(sinal, palavra):\n",
    "    \"\"\"\n",
    "    Inputs: sinal (lista) e uma palavra\n",
    "    Outputs: boolean dizendo se a palavra está de acordo com o sinal\n",
    "    \"\"\"\n",
    "    pos_pular = list()\n",
    "    # Resolvendo sinal 2\n",
    "    for pos in range(len(sinal)):\n",
    "        letra_sinal = sinal[pos][0]\n",
    "        codigo_sinal = sinal[pos][1]\n",
    "        if codigo_sinal != 2 and letra_sinal == palavra[pos]:\n",
    "            return False\n",
    "        if codigo_sinal == 2:\n",
    "            if letra_sinal != palavra[pos]: \n",
    "                return False\n",
    "            else:\n",
    "                pos_pular.append(pos)\n",
    "    # Verificando o resto\n",
    "    for pos in range(len(sinal)):\n",
    "        if pos in pos_pular:\n",
    "            continue\n",
    "        letra_sinal = sinal[pos][0]\n",
    "        codigo_sinal = sinal[pos][1]\n",
    "        # Primeiro letras que não fazem parte da resposta, sinal 0\n",
    "        if codigo_sinal == 0:   \n",
    "            for pal_pos in range(len(palavra)):\n",
    "                if pal_pos in pos_pular:\n",
    "                    continue\n",
    "                if letra_sinal == palavra[pal_pos]:\n",
    "                    return False\n",
    "        # signal code == 1\n",
    "        if codigo_sinal == 1: \n",
    "            letra_encontrada = False\n",
    "            for pal_pos in range(len(palavra)):\n",
    "                if pal_pos in pos_pular:\n",
    "                    continue\n",
    "                if letra_sinal == palavra[pal_pos]:\n",
    "                    letra_encontrada = True\n",
    "            if not letra_encontrada:\n",
    "                return False\n",
    "    return True     "
   ]
  },
  {
   "cell_type": "code",
   "execution_count": 109,
   "metadata": {},
   "outputs": [],
   "source": [
    "def sinal_corpus(sinal, corpo):\n",
    "    \"\"\"\n",
    "    Inputs: Sinal (lista) e um corpo (dicionario de palavras)\n",
    "    Outpt: Novo corpo que respeita o sinal\n",
    "    \"\"\"\n",
    "    corpo_novo  = {k:v for (k,v) in corpo.items() if palavra_respeita_sinal(sinal,k)}    \n",
    "    return corpo_novo"
   ]
  },
  {
   "cell_type": "code",
   "execution_count": 110,
   "metadata": {},
   "outputs": [],
   "source": [
    "def ganho_entropia(corp1, corp2):\n",
    "    \"\"\"\n",
    "    Computa o ganho de entropia de se ir do corpo 1 para o corpo 2\n",
    "    \"\"\"\n",
    "    return np.log2((len(corp1)+1)/(len(corp2)+1))"
   ]
  },
  {
   "cell_type": "code",
   "execution_count": 111,
   "metadata": {},
   "outputs": [],
   "source": [
    "def ganho_entropia_esperado(chute, corpo_candidato):\n",
    "    \"\"\"\n",
    "    Inputs: a guess (string), a candidate corp\n",
    "    Outputs: Expected entropy Gain    \n",
    "    \"\"\"\n",
    "    frequencia_total = 0\n",
    "    entropia_esperada = 0\n",
    "    for chave, frequencia in corpo_candidato.items():\n",
    "        # frequencia = np.log2(frequencia)\n",
    "        frequencia_total += frequencia\n",
    "        novo_sinal = chute_chave_sinal(chute,chave)\n",
    "        corpo_novo = sinal_corpus(novo_sinal, corpo_candidato)\n",
    "        entropia = ganho_entropia(corpo_candidato, corpo_novo)\n",
    "        entropia_esperada += frequencia*entropia\n",
    "    entropia_esperada /= frequencia_total      \n",
    "    return entropia_esperada"
   ]
  },
  {
   "cell_type": "code",
   "execution_count": 135,
   "metadata": {},
   "outputs": [],
   "source": [
    "def max_ganho_entropia_esperado(corpo_chutes,corpo_candidatos):\n",
    "    \"\"\"\n",
    "    Olha todas as palavras em um corpo de chutes e escolhe aquela que maximiza o ganho de entropia esperado no corpo de candidatos\n",
    "    Input: 2 corpos com dicionario de frequencias de palavras\n",
    "           corpo de chutes terá as palavras que poderão ser chutes\n",
    "           corpo de candidatos são as palavras que ainda podem ser respostas\n",
    "           Ambos os corpos podems ser iguais\n",
    "    Outputs: Uma tupla com a maior entropia esperada\n",
    "    \"\"\"\n",
    "    melhor_palavra = None\n",
    "    max_e_entropia = -np.inf\n",
    "    for chute, frequency in corpo_chutes.items():\n",
    "        e_entropia = expected_entropy_gain(chute, corpo_candidatos)\n",
    "        if e_entropia > max_e_entropia:\n",
    "            melhor_palavra = chute\n",
    "            max_e_entropia = e_entropia\n",
    "            print('Melhor chute = {}, Entropia esperada = {}'.format(melhor_palavra,max_e_entropia))\n",
    "    return melhor_palavra, max_e_entropia"
   ]
  },
  {
   "cell_type": "markdown",
   "metadata": {},
   "source": [
    "# Melhor chute inicial"
   ]
  },
  {
   "cell_type": "code",
   "execution_count": 119,
   "metadata": {},
   "outputs": [],
   "source": [
    "# max_expected_entropy_guess(corpus_limpo ,palavras_muito_usadas)"
   ]
  },
  {
   "cell_type": "code",
   "execution_count": 120,
   "metadata": {},
   "outputs": [
    {
     "name": "stdout",
     "output_type": "stream",
     "text": [
      "Melhor chute = agudo, Entropia esperada = 4.495127383518988\n",
      "Melhor chute = havia, Entropia esperada = 5.4117142382414904\n",
      "Melhor chute = timar, Entropia esperada = 5.477417673969076\n",
      "Melhor chute = salas, Entropia esperada = 6.518109370342865\n",
      "Melhor chute = ossos, Entropia esperada = 6.820929832379818\n",
      "Melhor chute = atlas, Entropia esperada = 6.941371834334802\n",
      "Melhor chute = adams, Entropia esperada = 7.469284792748463\n",
      "Melhor chute = amaro, Entropia esperada = 7.806653716093225\n"
     ]
    },
    {
     "data": {
      "text/plain": [
       "('amaro', 7.806653716093225)"
      ]
     },
     "execution_count": 120,
     "metadata": {},
     "output_type": "execute_result"
    }
   ],
   "source": [
    "max_ganho_entropia_esperado(palavras_muito_usadas,palavras_muito_usadas)"
   ]
  },
  {
   "cell_type": "code",
   "execution_count": 121,
   "metadata": {},
   "outputs": [
    {
     "data": {
      "text/plain": [
       "7.839635145944346"
      ]
     },
     "execution_count": 121,
     "metadata": {},
     "output_type": "execute_result"
    }
   ],
   "source": [
    "ganho_entropia_esperado('asaro', palavras_muito_usadas)"
   ]
  },
  {
   "cell_type": "markdown",
   "metadata": {},
   "source": [
    "# Jogando um jogo"
   ]
  },
  {
   "cell_type": "markdown",
   "metadata": {},
   "source": [
    "### Jogando um jogo simulado\n",
    "* A palavra correta era \"sogro\"\n",
    "* Eu comecei com o melhor chute: \"amaro\"\n",
    "* Depois usei o melhor chute apesar dele não estar no corpo de respostas que satisfaz o primeiro sinal: \"astor\"\n",
    "* Na terceira dica eu comecei a ir na resposta mais provável: \"sopro\". \n",
    "* Finalmente só sobrou a resposta correta: \"sogro\".\n"
   ]
  },
  {
   "cell_type": "code",
   "execution_count": 128,
   "metadata": {},
   "outputs": [],
   "source": [
    "sinal_1 = [('a', 0), ('m', 0), ('a', 0), ('r', 2), ('o', 2)]"
   ]
  },
  {
   "cell_type": "code",
   "execution_count": 130,
   "metadata": {},
   "outputs": [
    {
     "name": "stdout",
     "output_type": "stream",
     "text": [
      "40\n",
      "['outro', 'livro', 'pedro', 'quero', 'lucro', 'negro', 'ferro', 'vitro', 'vidro', 'dobro', 'couro', 'utero', 'litro', 'genro', 'choro', 'tupro', 'forro', 'touro', 'sopro', 'cloro', 'clero', 'burro', 'cerro', 'louro', 'sogro', 'cedro', 'entro', 'piero', 'otero', 'libro', 'douro', 'curro', 'loiro', 'cipro', 'zorro', 'serro', 'pdtro', 'corro', 'cobro', 'nigro']\n",
      "None\n",
      "Melhor chute = agudo, Entropia esperada = 2.0975744525206483\n",
      "Melhor chute = virol, Entropia esperada = 5.214476414496481\n",
      "Melhor chute = astor, Entropia esperada = 5.357552004618084\n"
     ]
    },
    {
     "data": {
      "text/plain": [
       "('astor', 5.357552004618084)"
      ]
     },
     "execution_count": 130,
     "metadata": {},
     "output_type": "execute_result"
    }
   ],
   "source": [
    "corpus_sinal_1 = signal_corpus(sinal_1, corpus_limpo)\n",
    "print(len(corpus_sinal_1))\n",
    "print(mostrar_n_palavras_mais_frequentes(corpus_sinal_1,40))\n",
    "max_ganho_entropia_esperado(corpus_limpo,corpus_sinal_1)"
   ]
  },
  {
   "cell_type": "code",
   "execution_count": 133,
   "metadata": {},
   "outputs": [],
   "source": [
    "sinal_2 = [('a', 0), ('s', 1), ('t', 0), ('o', 1), ('r', 1)]"
   ]
  },
  {
   "cell_type": "code",
   "execution_count": 139,
   "metadata": {},
   "outputs": [
    {
     "name": "stdout",
     "output_type": "stream",
     "text": [
      "3\n",
      "['sopro', 'sogro', 'serro']\n",
      "None\n",
      "Melhor chute = sopro, Entropia esperada = 1.0\n"
     ]
    },
    {
     "data": {
      "text/plain": [
       "('sopro', 1.0)"
      ]
     },
     "execution_count": 139,
     "metadata": {},
     "output_type": "execute_result"
    }
   ],
   "source": [
    "corpus_sinal_2 = signal_corpus(sinal_2, corpus_sinal_1)\n",
    "print(len(corpus_sinal_2))\n",
    "print(mostrar_n_palavras_mais_frequentes(corpus_sinal_2,40))\n",
    "max_ganho_entropia_esperado(corpus_sinal_2,corpus_sinal_2)"
   ]
  },
  {
   "cell_type": "code",
   "execution_count": 137,
   "metadata": {},
   "outputs": [],
   "source": [
    "sinal_3 = [('s', 2), ('o', 2), ('p', 0), ('r', 2), ('o', 2)]"
   ]
  },
  {
   "cell_type": "code",
   "execution_count": 138,
   "metadata": {},
   "outputs": [
    {
     "name": "stdout",
     "output_type": "stream",
     "text": [
      "1\n",
      "['sogro']\n",
      "None\n",
      "Melhor chute = sogro, Entropia esperada = 0.0\n"
     ]
    },
    {
     "data": {
      "text/plain": [
       "('sogro', 0.0)"
      ]
     },
     "execution_count": 138,
     "metadata": {},
     "output_type": "execute_result"
    }
   ],
   "source": [
    "corpus_sinal_3 = signal_corpus(sinal_3, corpus_sinal_2)\n",
    "print(len(corpus_sinal_3))\n",
    "print(mostrar_n_palavras_mais_frequentes(corpus_sinal_3,40))\n",
    "max_ganho_entropia_esperado(corpus_sinal_3,corpus_sinal_3)"
   ]
  },
  {
   "cell_type": "markdown",
   "metadata": {},
   "source": [
    "## Rascunho"
   ]
  },
  {
   "cell_type": "code",
   "execution_count": null,
   "metadata": {},
   "outputs": [],
   "source": []
  }
 ],
 "metadata": {
  "kernelspec": {
   "display_name": "Python 3",
   "language": "python",
   "name": "python3"
  }
 },
 "nbformat": 4,
 "nbformat_minor": 2
}
